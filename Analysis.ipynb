{
 "cells": [
  {
   "cell_type": "code",
   "execution_count": 11,
   "id": "473cb0e7-ac44-4d0f-a7f0-c668b6c1c3d9",
   "metadata": {},
   "outputs": [],
   "source": [
    "# ======================================\n",
    "# 🔍 Predictive Maintenance Analysis (AI4I 2020)\n",
    "# ======================================"
   ]
  },
  {
   "cell_type": "code",
   "execution_count": 12,
   "id": "7f231576-ea7f-4a64-9be0-1ee6b340b11f",
   "metadata": {},
   "outputs": [],
   "source": [
    "# 📦 Import Libraries\n",
    "import os\n",
    "import pandas as pd\n",
    "import numpy as np\n",
    "import matplotlib.pyplot as plt\n",
    "import seaborn as sns"
   ]
  },
  {
   "cell_type": "code",
   "execution_count": 14,
   "id": "0c937eac-d181-4fd9-b9e8-2301b8462912",
   "metadata": {},
   "outputs": [],
   "source": [
    "# 📊 Settings\n",
    "sns.set(style=\"whitegrid\", context=\"talk\")\n",
    "plt.rcParams['figure.facecolor'] = 'white'\n",
    "os.makedirs(\"charts\", exist_ok=True)"
   ]
  },
  {
   "cell_type": "code",
   "execution_count": 15,
   "id": "9b7d9f2c-c379-47d5-8eca-3f7b3b184302",
   "metadata": {},
   "outputs": [
    {
     "name": "stdout",
     "output_type": "stream",
     "text": [
      "✅ Data loaded successfully.\n",
      "Rows: 10000, Columns: 14\n"
     ]
    },
    {
     "data": {
      "text/html": [
       "<div>\n",
       "<style scoped>\n",
       "    .dataframe tbody tr th:only-of-type {\n",
       "        vertical-align: middle;\n",
       "    }\n",
       "\n",
       "    .dataframe tbody tr th {\n",
       "        vertical-align: top;\n",
       "    }\n",
       "\n",
       "    .dataframe thead th {\n",
       "        text-align: right;\n",
       "    }\n",
       "</style>\n",
       "<table border=\"1\" class=\"dataframe\">\n",
       "  <thead>\n",
       "    <tr style=\"text-align: right;\">\n",
       "      <th></th>\n",
       "      <th>UDI</th>\n",
       "      <th>Product ID</th>\n",
       "      <th>Type</th>\n",
       "      <th>Air temperature [K]</th>\n",
       "      <th>Process temperature [K]</th>\n",
       "      <th>Rotational speed [rpm]</th>\n",
       "      <th>Torque [Nm]</th>\n",
       "      <th>Tool wear [min]</th>\n",
       "      <th>Machine failure</th>\n",
       "      <th>TWF</th>\n",
       "      <th>HDF</th>\n",
       "      <th>PWF</th>\n",
       "      <th>OSF</th>\n",
       "      <th>RNF</th>\n",
       "    </tr>\n",
       "  </thead>\n",
       "  <tbody>\n",
       "    <tr>\n",
       "      <th>0</th>\n",
       "      <td>1</td>\n",
       "      <td>M14860</td>\n",
       "      <td>M</td>\n",
       "      <td>298.1</td>\n",
       "      <td>308.6</td>\n",
       "      <td>1551</td>\n",
       "      <td>42.8</td>\n",
       "      <td>0</td>\n",
       "      <td>0</td>\n",
       "      <td>0</td>\n",
       "      <td>0</td>\n",
       "      <td>0</td>\n",
       "      <td>0</td>\n",
       "      <td>0</td>\n",
       "    </tr>\n",
       "    <tr>\n",
       "      <th>1</th>\n",
       "      <td>2</td>\n",
       "      <td>L47181</td>\n",
       "      <td>L</td>\n",
       "      <td>298.2</td>\n",
       "      <td>308.7</td>\n",
       "      <td>1408</td>\n",
       "      <td>46.3</td>\n",
       "      <td>3</td>\n",
       "      <td>0</td>\n",
       "      <td>0</td>\n",
       "      <td>0</td>\n",
       "      <td>0</td>\n",
       "      <td>0</td>\n",
       "      <td>0</td>\n",
       "    </tr>\n",
       "    <tr>\n",
       "      <th>2</th>\n",
       "      <td>3</td>\n",
       "      <td>L47182</td>\n",
       "      <td>L</td>\n",
       "      <td>298.1</td>\n",
       "      <td>308.5</td>\n",
       "      <td>1498</td>\n",
       "      <td>49.4</td>\n",
       "      <td>5</td>\n",
       "      <td>0</td>\n",
       "      <td>0</td>\n",
       "      <td>0</td>\n",
       "      <td>0</td>\n",
       "      <td>0</td>\n",
       "      <td>0</td>\n",
       "    </tr>\n",
       "    <tr>\n",
       "      <th>3</th>\n",
       "      <td>4</td>\n",
       "      <td>L47183</td>\n",
       "      <td>L</td>\n",
       "      <td>298.2</td>\n",
       "      <td>308.6</td>\n",
       "      <td>1433</td>\n",
       "      <td>39.5</td>\n",
       "      <td>7</td>\n",
       "      <td>0</td>\n",
       "      <td>0</td>\n",
       "      <td>0</td>\n",
       "      <td>0</td>\n",
       "      <td>0</td>\n",
       "      <td>0</td>\n",
       "    </tr>\n",
       "    <tr>\n",
       "      <th>4</th>\n",
       "      <td>5</td>\n",
       "      <td>L47184</td>\n",
       "      <td>L</td>\n",
       "      <td>298.2</td>\n",
       "      <td>308.7</td>\n",
       "      <td>1408</td>\n",
       "      <td>40.0</td>\n",
       "      <td>9</td>\n",
       "      <td>0</td>\n",
       "      <td>0</td>\n",
       "      <td>0</td>\n",
       "      <td>0</td>\n",
       "      <td>0</td>\n",
       "      <td>0</td>\n",
       "    </tr>\n",
       "  </tbody>\n",
       "</table>\n",
       "</div>"
      ],
      "text/plain": [
       "   UDI Product ID Type  Air temperature [K]  Process temperature [K]  \\\n",
       "0    1     M14860    M                298.1                    308.6   \n",
       "1    2     L47181    L                298.2                    308.7   \n",
       "2    3     L47182    L                298.1                    308.5   \n",
       "3    4     L47183    L                298.2                    308.6   \n",
       "4    5     L47184    L                298.2                    308.7   \n",
       "\n",
       "   Rotational speed [rpm]  Torque [Nm]  Tool wear [min]  Machine failure  TWF  \\\n",
       "0                    1551         42.8                0                0    0   \n",
       "1                    1408         46.3                3                0    0   \n",
       "2                    1498         49.4                5                0    0   \n",
       "3                    1433         39.5                7                0    0   \n",
       "4                    1408         40.0                9                0    0   \n",
       "\n",
       "   HDF  PWF  OSF  RNF  \n",
       "0    0    0    0    0  \n",
       "1    0    0    0    0  \n",
       "2    0    0    0    0  \n",
       "3    0    0    0    0  \n",
       "4    0    0    0    0  "
      ]
     },
     "metadata": {},
     "output_type": "display_data"
    }
   ],
   "source": [
    "# ======================================\n",
    "# 🧹 STEP 1: Load & Clean the Dataset\n",
    "# ======================================\n",
    "\n",
    "# Load dataset\n",
    "df = pd.read_csv(\"ai4i2020.csv\")\n",
    "\n",
    "print(\"✅ Data loaded successfully.\")\n",
    "print(f\"Rows: {df.shape[0]}, Columns: {df.shape[1]}\")\n",
    "display(df.head())"
   ]
  },
  {
   "cell_type": "code",
   "execution_count": 16,
   "id": "2ef6ae0a-e15c-4296-a4e3-590658888682",
   "metadata": {},
   "outputs": [],
   "source": [
    "# Clean column names\n",
    "df.columns = [c.strip().replace(\" \", \"_\").replace(\"[\", \"\").replace(\"]\", \"\") for c in df.columns]"
   ]
  },
  {
   "cell_type": "code",
   "execution_count": 17,
   "id": "6c7f6b00-2677-463a-ab46-b9677a6af715",
   "metadata": {},
   "outputs": [],
   "source": [
    "# Convert to numeric where needed\n",
    "num_cols = ['Air_temperature_K','Process_temperature_K','Rotational_speed_rpm','Torque_Nm','Tool_wear_min']\n",
    "df[num_cols] = df[num_cols].apply(pd.to_numeric, errors='coerce')"
   ]
  },
  {
   "cell_type": "code",
   "execution_count": 18,
   "id": "8214fcc0-6578-4662-9d52-a3117615813d",
   "metadata": {},
   "outputs": [],
   "source": [
    "# ======================================\n",
    "# ⚙️ STEP 2: Feature Engineering\n",
    "# ======================================"
   ]
  },
  {
   "cell_type": "code",
   "execution_count": 19,
   "id": "57562ee4-d7ac-448b-bd6c-af9764d6c24a",
   "metadata": {},
   "outputs": [],
   "source": [
    "# Temperature difference\n",
    "df['Temp_Diff'] = df['Process_temperature_K'] - df['Air_temperature_K']"
   ]
  },
  {
   "cell_type": "code",
   "execution_count": 20,
   "id": "b7a13449-a438-4d6f-b856-b32d2e9152f9",
   "metadata": {},
   "outputs": [],
   "source": [
    "# Custom severity score\n",
    "df['Severity_Score'] = (df['Torque_Nm']*0.3 + df['Rotational_speed_rpm']*0.1 + df['Tool_wear_min']*0.6)"
   ]
  },
  {
   "cell_type": "code",
   "execution_count": 21,
   "id": "501a7979-4b81-4095-b719-95a4e7b552ee",
   "metadata": {},
   "outputs": [],
   "source": [
    "# Air condition category\n",
    "df['Air_Condition'] = pd.cut(\n",
    "    df['Air_temperature_K'],\n",
    "    bins=[0,295,305,400],\n",
    "    labels=['Cold','Moderate','Hot']\n",
    ")"
   ]
  },
  {
   "cell_type": "code",
   "execution_count": 22,
   "id": "98ce000d-79f0-4dfd-8c4b-2b9acf6c5eb8",
   "metadata": {},
   "outputs": [],
   "source": [
    "# Remove invalid or missing values\n",
    "df = df.dropna(subset=num_cols)\n",
    "df = df[(df['Torque_Nm'] > 0) & (df['Rotational_speed_rpm'] > 0)]"
   ]
  },
  {
   "cell_type": "code",
   "execution_count": 23,
   "id": "427230dc-3ac5-4d97-aca1-972fa732b6a2",
   "metadata": {},
   "outputs": [
    {
     "name": "stdout",
     "output_type": "stream",
     "text": [
      "✅ Data cleaned & enriched successfully.\n"
     ]
    },
    {
     "data": {
      "text/html": [
       "<div>\n",
       "<style scoped>\n",
       "    .dataframe tbody tr th:only-of-type {\n",
       "        vertical-align: middle;\n",
       "    }\n",
       "\n",
       "    .dataframe tbody tr th {\n",
       "        vertical-align: top;\n",
       "    }\n",
       "\n",
       "    .dataframe thead th {\n",
       "        text-align: right;\n",
       "    }\n",
       "</style>\n",
       "<table border=\"1\" class=\"dataframe\">\n",
       "  <thead>\n",
       "    <tr style=\"text-align: right;\">\n",
       "      <th></th>\n",
       "      <th>UDI</th>\n",
       "      <th>Air_temperature_K</th>\n",
       "      <th>Process_temperature_K</th>\n",
       "      <th>Rotational_speed_rpm</th>\n",
       "      <th>Torque_Nm</th>\n",
       "      <th>Tool_wear_min</th>\n",
       "      <th>Machine_failure</th>\n",
       "      <th>TWF</th>\n",
       "      <th>HDF</th>\n",
       "      <th>PWF</th>\n",
       "      <th>OSF</th>\n",
       "      <th>RNF</th>\n",
       "      <th>Temp_Diff</th>\n",
       "      <th>Severity_Score</th>\n",
       "    </tr>\n",
       "  </thead>\n",
       "  <tbody>\n",
       "    <tr>\n",
       "      <th>count</th>\n",
       "      <td>10000.00000</td>\n",
       "      <td>10000.000000</td>\n",
       "      <td>10000.000000</td>\n",
       "      <td>10000.000000</td>\n",
       "      <td>10000.000000</td>\n",
       "      <td>10000.000000</td>\n",
       "      <td>10000.000000</td>\n",
       "      <td>10000.000000</td>\n",
       "      <td>10000.000000</td>\n",
       "      <td>10000.000000</td>\n",
       "      <td>10000.000000</td>\n",
       "      <td>10000.00000</td>\n",
       "      <td>10000.000000</td>\n",
       "      <td>10000.000000</td>\n",
       "    </tr>\n",
       "    <tr>\n",
       "      <th>mean</th>\n",
       "      <td>5000.50000</td>\n",
       "      <td>300.004930</td>\n",
       "      <td>310.005560</td>\n",
       "      <td>1538.776100</td>\n",
       "      <td>39.986910</td>\n",
       "      <td>107.951000</td>\n",
       "      <td>0.033900</td>\n",
       "      <td>0.004600</td>\n",
       "      <td>0.011500</td>\n",
       "      <td>0.009500</td>\n",
       "      <td>0.009800</td>\n",
       "      <td>0.00190</td>\n",
       "      <td>10.000630</td>\n",
       "      <td>230.644283</td>\n",
       "    </tr>\n",
       "    <tr>\n",
       "      <th>std</th>\n",
       "      <td>2886.89568</td>\n",
       "      <td>2.000259</td>\n",
       "      <td>1.483734</td>\n",
       "      <td>179.284096</td>\n",
       "      <td>9.968934</td>\n",
       "      <td>63.654147</td>\n",
       "      <td>0.180981</td>\n",
       "      <td>0.067671</td>\n",
       "      <td>0.106625</td>\n",
       "      <td>0.097009</td>\n",
       "      <td>0.098514</td>\n",
       "      <td>0.04355</td>\n",
       "      <td>1.001094</td>\n",
       "      <td>41.167979</td>\n",
       "    </tr>\n",
       "    <tr>\n",
       "      <th>min</th>\n",
       "      <td>1.00000</td>\n",
       "      <td>295.300000</td>\n",
       "      <td>305.700000</td>\n",
       "      <td>1168.000000</td>\n",
       "      <td>3.800000</td>\n",
       "      <td>0.000000</td>\n",
       "      <td>0.000000</td>\n",
       "      <td>0.000000</td>\n",
       "      <td>0.000000</td>\n",
       "      <td>0.000000</td>\n",
       "      <td>0.000000</td>\n",
       "      <td>0.00000</td>\n",
       "      <td>7.600000</td>\n",
       "      <td>142.740000</td>\n",
       "    </tr>\n",
       "    <tr>\n",
       "      <th>25%</th>\n",
       "      <td>2500.75000</td>\n",
       "      <td>298.300000</td>\n",
       "      <td>308.800000</td>\n",
       "      <td>1423.000000</td>\n",
       "      <td>33.200000</td>\n",
       "      <td>53.000000</td>\n",
       "      <td>0.000000</td>\n",
       "      <td>0.000000</td>\n",
       "      <td>0.000000</td>\n",
       "      <td>0.000000</td>\n",
       "      <td>0.000000</td>\n",
       "      <td>0.00000</td>\n",
       "      <td>9.300000</td>\n",
       "      <td>197.232500</td>\n",
       "    </tr>\n",
       "    <tr>\n",
       "      <th>50%</th>\n",
       "      <td>5000.50000</td>\n",
       "      <td>300.100000</td>\n",
       "      <td>310.100000</td>\n",
       "      <td>1503.000000</td>\n",
       "      <td>40.100000</td>\n",
       "      <td>108.000000</td>\n",
       "      <td>0.000000</td>\n",
       "      <td>0.000000</td>\n",
       "      <td>0.000000</td>\n",
       "      <td>0.000000</td>\n",
       "      <td>0.000000</td>\n",
       "      <td>0.00000</td>\n",
       "      <td>9.800000</td>\n",
       "      <td>229.935000</td>\n",
       "    </tr>\n",
       "    <tr>\n",
       "      <th>75%</th>\n",
       "      <td>7500.25000</td>\n",
       "      <td>301.500000</td>\n",
       "      <td>311.100000</td>\n",
       "      <td>1612.000000</td>\n",
       "      <td>46.800000</td>\n",
       "      <td>162.000000</td>\n",
       "      <td>0.000000</td>\n",
       "      <td>0.000000</td>\n",
       "      <td>0.000000</td>\n",
       "      <td>0.000000</td>\n",
       "      <td>0.000000</td>\n",
       "      <td>0.00000</td>\n",
       "      <td>11.000000</td>\n",
       "      <td>263.712500</td>\n",
       "    </tr>\n",
       "    <tr>\n",
       "      <th>max</th>\n",
       "      <td>10000.00000</td>\n",
       "      <td>304.500000</td>\n",
       "      <td>313.800000</td>\n",
       "      <td>2886.000000</td>\n",
       "      <td>76.600000</td>\n",
       "      <td>253.000000</td>\n",
       "      <td>1.000000</td>\n",
       "      <td>1.000000</td>\n",
       "      <td>1.000000</td>\n",
       "      <td>1.000000</td>\n",
       "      <td>1.000000</td>\n",
       "      <td>1.00000</td>\n",
       "      <td>12.100000</td>\n",
       "      <td>413.240000</td>\n",
       "    </tr>\n",
       "  </tbody>\n",
       "</table>\n",
       "</div>"
      ],
      "text/plain": [
       "               UDI  Air_temperature_K  Process_temperature_K  \\\n",
       "count  10000.00000       10000.000000           10000.000000   \n",
       "mean    5000.50000         300.004930             310.005560   \n",
       "std     2886.89568           2.000259               1.483734   \n",
       "min        1.00000         295.300000             305.700000   \n",
       "25%     2500.75000         298.300000             308.800000   \n",
       "50%     5000.50000         300.100000             310.100000   \n",
       "75%     7500.25000         301.500000             311.100000   \n",
       "max    10000.00000         304.500000             313.800000   \n",
       "\n",
       "       Rotational_speed_rpm     Torque_Nm  Tool_wear_min  Machine_failure  \\\n",
       "count          10000.000000  10000.000000   10000.000000     10000.000000   \n",
       "mean            1538.776100     39.986910     107.951000         0.033900   \n",
       "std              179.284096      9.968934      63.654147         0.180981   \n",
       "min             1168.000000      3.800000       0.000000         0.000000   \n",
       "25%             1423.000000     33.200000      53.000000         0.000000   \n",
       "50%             1503.000000     40.100000     108.000000         0.000000   \n",
       "75%             1612.000000     46.800000     162.000000         0.000000   \n",
       "max             2886.000000     76.600000     253.000000         1.000000   \n",
       "\n",
       "                TWF           HDF           PWF           OSF          RNF  \\\n",
       "count  10000.000000  10000.000000  10000.000000  10000.000000  10000.00000   \n",
       "mean       0.004600      0.011500      0.009500      0.009800      0.00190   \n",
       "std        0.067671      0.106625      0.097009      0.098514      0.04355   \n",
       "min        0.000000      0.000000      0.000000      0.000000      0.00000   \n",
       "25%        0.000000      0.000000      0.000000      0.000000      0.00000   \n",
       "50%        0.000000      0.000000      0.000000      0.000000      0.00000   \n",
       "75%        0.000000      0.000000      0.000000      0.000000      0.00000   \n",
       "max        1.000000      1.000000      1.000000      1.000000      1.00000   \n",
       "\n",
       "          Temp_Diff  Severity_Score  \n",
       "count  10000.000000    10000.000000  \n",
       "mean      10.000630      230.644283  \n",
       "std        1.001094       41.167979  \n",
       "min        7.600000      142.740000  \n",
       "25%        9.300000      197.232500  \n",
       "50%        9.800000      229.935000  \n",
       "75%       11.000000      263.712500  \n",
       "max       12.100000      413.240000  "
      ]
     },
     "metadata": {},
     "output_type": "display_data"
    }
   ],
   "source": [
    "print(\"✅ Data cleaned & enriched successfully.\")\n",
    "display(df.describe())"
   ]
  },
  {
   "cell_type": "code",
   "execution_count": 24,
   "id": "7c3c04b5-05aa-4fd3-be7a-78a90af4ac69",
   "metadata": {},
   "outputs": [],
   "source": [
    "# ======================================\n",
    "# 📈 STEP 3: Exploratory Data Analysis\n",
    "# ======================================"
   ]
  },
  {
   "cell_type": "code",
   "execution_count": 25,
   "id": "6a569e4a-8c42-4ab1-a0f4-50bcdc48cef0",
   "metadata": {},
   "outputs": [
    {
     "name": "stdout",
     "output_type": "stream",
     "text": [
      "⚙️ Machine Failure Rate: 3.39%\n"
     ]
    }
   ],
   "source": [
    "# Machine failure overview\n",
    "failure_rate = df['Machine_failure'].mean() * 100\n",
    "print(f\"⚙️ Machine Failure Rate: {failure_rate:.2f}%\")"
   ]
  },
  {
   "cell_type": "code",
   "execution_count": 26,
   "id": "d3b2ffdb-a992-436c-bce2-fc47600352d1",
   "metadata": {},
   "outputs": [
    {
     "name": "stdout",
     "output_type": "stream",
     "text": [
      "\n",
      "Failure rate by Product Type:\n"
     ]
    },
    {
     "data": {
      "text/plain": [
       "Type\n",
       "H    2.093719\n",
       "L    3.916667\n",
       "M    2.769436\n",
       "Name: Machine_failure, dtype: float64"
      ]
     },
     "metadata": {},
     "output_type": "display_data"
    }
   ],
   "source": [
    "# Failure by type\n",
    "failures_by_type = df.groupby('Type')['Machine_failure'].mean() * 100\n",
    "print(\"\\nFailure rate by Product Type:\")\n",
    "display(failures_by_type)"
   ]
  },
  {
   "cell_type": "code",
   "execution_count": 27,
   "id": "96ae2ac8-ba7a-41e3-b6b6-803a9c3da7d7",
   "metadata": {},
   "outputs": [
    {
     "data": {
      "text/html": [
       "<div>\n",
       "<style scoped>\n",
       "    .dataframe tbody tr th:only-of-type {\n",
       "        vertical-align: middle;\n",
       "    }\n",
       "\n",
       "    .dataframe tbody tr th {\n",
       "        vertical-align: top;\n",
       "    }\n",
       "\n",
       "    .dataframe thead tr th {\n",
       "        text-align: left;\n",
       "    }\n",
       "\n",
       "    .dataframe thead tr:last-of-type th {\n",
       "        text-align: right;\n",
       "    }\n",
       "</style>\n",
       "<table border=\"1\" class=\"dataframe\">\n",
       "  <thead>\n",
       "    <tr>\n",
       "      <th></th>\n",
       "      <th colspan=\"8\" halign=\"left\">Temp_Diff</th>\n",
       "    </tr>\n",
       "    <tr>\n",
       "      <th></th>\n",
       "      <th>count</th>\n",
       "      <th>mean</th>\n",
       "      <th>std</th>\n",
       "      <th>min</th>\n",
       "      <th>25%</th>\n",
       "      <th>50%</th>\n",
       "      <th>75%</th>\n",
       "      <th>max</th>\n",
       "    </tr>\n",
       "    <tr>\n",
       "      <th>Machine_failure</th>\n",
       "      <th></th>\n",
       "      <th></th>\n",
       "      <th></th>\n",
       "      <th></th>\n",
       "      <th></th>\n",
       "      <th></th>\n",
       "      <th></th>\n",
       "      <th></th>\n",
       "    </tr>\n",
       "  </thead>\n",
       "  <tbody>\n",
       "    <tr>\n",
       "      <th>0</th>\n",
       "      <td>9661.0</td>\n",
       "      <td>10.021571</td>\n",
       "      <td>0.988422</td>\n",
       "      <td>7.6</td>\n",
       "      <td>9.3</td>\n",
       "      <td>9.8</td>\n",
       "      <td>11.0</td>\n",
       "      <td>12.1</td>\n",
       "    </tr>\n",
       "    <tr>\n",
       "      <th>1</th>\n",
       "      <td>339.0</td>\n",
       "      <td>9.403835</td>\n",
       "      <td>1.164445</td>\n",
       "      <td>7.6</td>\n",
       "      <td>8.4</td>\n",
       "      <td>9.3</td>\n",
       "      <td>10.5</td>\n",
       "      <td>12.0</td>\n",
       "    </tr>\n",
       "  </tbody>\n",
       "</table>\n",
       "</div>"
      ],
      "text/plain": [
       "                Temp_Diff                                                \n",
       "                    count       mean       std  min  25%  50%   75%   max\n",
       "Machine_failure                                                          \n",
       "0                  9661.0  10.021571  0.988422  7.6  9.3  9.8  11.0  12.1\n",
       "1                   339.0   9.403835  1.164445  7.6  8.4  9.3  10.5  12.0"
      ]
     },
     "metadata": {},
     "output_type": "display_data"
    }
   ],
   "source": [
    "# Temperature difference summary\n",
    "display(df[['Temp_Diff','Machine_failure']].groupby('Machine_failure').describe())"
   ]
  },
  {
   "cell_type": "code",
   "execution_count": 28,
   "id": "1852a1c2-8157-48d2-88d7-4325410ee94a",
   "metadata": {},
   "outputs": [],
   "source": [
    "# ======================================\n",
    "# 📊 STEP 4: Data Visualization\n",
    "# ======================================"
   ]
  },
  {
   "cell_type": "code",
   "execution_count": 29,
   "id": "61bd97ad-2c0e-42c8-87db-a4e199d7a720",
   "metadata": {},
   "outputs": [],
   "source": [
    "def save_chart(title):\n",
    "    \"\"\"Helper to save charts into /charts folder\"\"\"\n",
    "    plt.title(title)\n",
    "    plt.tight_layout()\n",
    "    plt.savefig(f\"charts/{title.replace(' ','_').lower()}.png\", bbox_inches='tight')\n",
    "    plt.close()"
   ]
  },
  {
   "cell_type": "code",
   "execution_count": 30,
   "id": "2f9eb34d-1c23-4ffb-b247-3bfa2112ee9d",
   "metadata": {},
   "outputs": [],
   "source": [
    "# Failure Rate\n",
    "plt.pie([failure_rate, 100-failure_rate], labels=['Failure','No Failure'],\n",
    "        autopct='%1.1f%%', colors=['#ff6666','#66b3ff'])\n",
    "save_chart(\"Machine Failure Rate\")"
   ]
  },
  {
   "cell_type": "code",
   "execution_count": 32,
   "id": "197a75a2-767f-4eb2-af3d-51820be9151b",
   "metadata": {},
   "outputs": [],
   "source": [
    "# Failures by Product Type\n",
    "sns.barplot(x=failures_by_type.index, y=failures_by_type.values,hue=failures_by_type.index ,palette='crest')\n",
    "plt.ylabel(\"Failure Rate (%)\")\n",
    "save_chart(\"Failure Rate by Product Type\")"
   ]
  },
  {
   "cell_type": "code",
   "execution_count": 34,
   "id": "0ffb6b11-8840-48f2-95d5-9043372c734a",
   "metadata": {},
   "outputs": [],
   "source": [
    "# Temperature Difference vs Failure\n",
    "sns.boxplot(data=df, x='Machine_failure', y='Temp_Diff',hue='Machine_failure' ,palette='coolwarm')\n",
    "plt.xlabel(\"Machine Failure (0=No, 1=Yes)\")\n",
    "plt.ylabel(\"Temperature Difference (K)\")\n",
    "save_chart(\"Temperature Difference vs Machine Failure\")"
   ]
  },
  {
   "cell_type": "code",
   "execution_count": 36,
   "id": "ce4ef608-9daf-4739-85fe-bae9b6d69090",
   "metadata": {},
   "outputs": [],
   "source": [
    "# Torque & RPM vs Failure\n",
    "fig, ax = plt.subplots(1,2, figsize=(12,5))\n",
    "sns.boxplot(data=df, x='Machine_failure', y='Torque_Nm', ax=ax[0],hue='Machine_failure', palette='Blues')\n",
    "sns.boxplot(data=df, x='Machine_failure', y='Rotational_speed_rpm', ax=ax[1],hue='Machine_failure' ,palette='Reds')\n",
    "ax[0].set_title(\"Torque vs Failure\")\n",
    "ax[1].set_title(\"RPM vs Failure\")\n",
    "plt.tight_layout()\n",
    "plt.savefig(\"charts/Torque_RPM_vs_Failure.png\", bbox_inches='tight')\n",
    "plt.close()"
   ]
  },
  {
   "cell_type": "code",
   "execution_count": 37,
   "id": "ddc6f341-fb04-416e-8246-545fd91d81f3",
   "metadata": {},
   "outputs": [],
   "source": [
    "# Tool Wear Distribution\n",
    "sns.histplot(data=df, x='Tool_wear_min', hue='Machine_failure', kde=True, bins=30, palette='viridis')\n",
    "save_chart(\"Tool Wear Distribution by Failure\")"
   ]
  },
  {
   "cell_type": "code",
   "execution_count": 38,
   "id": "7b5e18ad-e1d3-4b9b-ba5c-15a1675edec4",
   "metadata": {},
   "outputs": [],
   "source": [
    "# Correlation Heatmap\n",
    "corr = df[['Air_temperature_K','Process_temperature_K','Rotational_speed_rpm','Torque_Nm',\n",
    "           'Tool_wear_min','Machine_failure','Temp_Diff','Severity_Score']].corr()\n",
    "plt.figure(figsize=(8,6))\n",
    "sns.heatmap(corr, annot=True, cmap='coolwarm', fmt=\".2f\")\n",
    "save_chart(\"Correlation Heatmap\")"
   ]
  },
  {
   "cell_type": "code",
   "execution_count": 40,
   "id": "974421e2-ccfd-404f-bc01-6b03931e3957",
   "metadata": {},
   "outputs": [],
   "source": [
    "# Failure Type Distribution\n",
    "types = ['TWF','HDF','PWF','OSF','RNF']\n",
    "sums = df[types].sum().sort_values(ascending=False)\n",
    "sns.barplot(x=sums.index, y=sums.values,hue=sums.index, palette='magma')\n",
    "plt.ylabel(\"Count\")\n",
    "save_chart(\"Failure Type Distribution\")"
   ]
  },
  {
   "cell_type": "code",
   "execution_count": 41,
   "id": "6b0f258a-1b54-4a4c-8496-01b58904cc81",
   "metadata": {},
   "outputs": [],
   "source": [
    "# Torque vs Temperature Difference\n",
    "sns.scatterplot(data=df, x='Torque_Nm', y='Temp_Diff', hue='Machine_failure', palette='Set2', alpha=0.7)\n",
    "save_chart(\"Torque vs Temperature Difference\")"
   ]
  },
  {
   "cell_type": "code",
   "execution_count": 42,
   "id": "48c1879a-cd10-4b70-bf3d-f62bba1800dd",
   "metadata": {},
   "outputs": [],
   "source": [
    "# Severity Score Distribution\n",
    "sns.histplot(df['Severity_Score'], kde=True, color='teal')\n",
    "save_chart(\"Severity Score Distribution\")"
   ]
  },
  {
   "cell_type": "code",
   "execution_count": 44,
   "id": "11f4143e-f055-47d3-b8d1-daaa3a2d57f7",
   "metadata": {},
   "outputs": [],
   "source": [
    "# Severity Score by Type\n",
    "avg = df.groupby('Type')['Severity_Score'].mean().sort_values(ascending=False)\n",
    "sns.barplot(x=avg.index, y=avg.values,hue=avg.index ,palette='flare')\n",
    "plt.ylabel(\"Avg Severity Score\")\n",
    "save_chart(\"Average Severity Score by Product Type\")"
   ]
  },
  {
   "cell_type": "code",
   "execution_count": 46,
   "id": "2dfc7bd5-1683-403d-a78a-05441c13b264",
   "metadata": {},
   "outputs": [
    {
     "name": "stderr",
     "output_type": "stream",
     "text": [
      "C:\\Users\\Ismail\\AppData\\Local\\Temp\\ipykernel_18680\\2565753627.py:2: FutureWarning: The default of observed=False is deprecated and will be changed to True in a future version of pandas. Pass observed=False to retain current behavior or observed=True to adopt the future default and silence this warning.\n",
      "  summary = df.groupby('Air_Condition')['Machine_failure'].agg(['count','sum'])\n"
     ]
    }
   ],
   "source": [
    "# Environmental Conditions vs Failures\n",
    "summary = df.groupby('Air_Condition')['Machine_failure'].agg(['count','sum'])\n",
    "summary['Failure_Rate'] = 100 * summary['sum'] / summary['count']\n",
    "sns.barplot(x=summary.index, y=summary['Failure_Rate'],hue=summary.index ,palette='rocket')\n",
    "plt.ylabel(\"Failure Rate (%)\")\n",
    "save_chart(\"Failure Rate by Ambient Temperature\")"
   ]
  },
  {
   "cell_type": "code",
   "execution_count": 47,
   "id": "226bd6a4-cb5a-4340-821a-dfd0ad2b9935",
   "metadata": {},
   "outputs": [],
   "source": [
    "# Extra - RPM vs Torque\n",
    "sns.scatterplot(data=df, x='Rotational_speed_rpm', y='Torque_Nm', hue='Machine_failure', alpha=0.6)\n",
    "save_chart(\"RPM vs Torque (Colored by Failure)\")"
   ]
  },
  {
   "cell_type": "code",
   "execution_count": 49,
   "id": "f2bedfaa-d003-469c-bbc0-fec2a7ef8712",
   "metadata": {},
   "outputs": [],
   "source": [
    "# Severity vs Failure\n",
    "sns.boxplot(data=df, x='Machine_failure', y='Severity_Score', hue='Machine_failure',palette='coolwarm')\n",
    "save_chart(\"Severity Score by Failure Status\")"
   ]
  },
  {
   "cell_type": "code",
   "execution_count": null,
   "id": "e3f38948-2473-475e-91fb-49779936c619",
   "metadata": {},
   "outputs": [],
   "source": []
  }
 ],
 "metadata": {
  "kernelspec": {
   "display_name": "Python 3 (ipykernel)",
   "language": "python",
   "name": "python3"
  },
  "language_info": {
   "codemirror_mode": {
    "name": "ipython",
    "version": 3
   },
   "file_extension": ".py",
   "mimetype": "text/x-python",
   "name": "python",
   "nbconvert_exporter": "python",
   "pygments_lexer": "ipython3",
   "version": "3.12.7"
  }
 },
 "nbformat": 4,
 "nbformat_minor": 5
}
